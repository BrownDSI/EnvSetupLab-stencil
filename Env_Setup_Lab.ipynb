{
 "cells": [
  {
   "cell_type": "markdown",
   "metadata": {},
   "source": [
    "# Lab 0: Environment Setup\n",
    "In this lab you'll set up the tools that you will need for this course on your computer so that you can work on projects and labs efficiently throughout the semester. If you run into any trouble, pleasse do not hesitate to reach out to the TAs!"
   ]
  },
  {
   "cell_type": "markdown",
   "metadata": {},
   "source": [
    "### `%debug` magic\n",
    "\n",
    "The easiest way to debug a Jupyter notebook is to use the `%debug` magic command. Whenever you encounter an error or exception, just open a new notebook cell, type %debug and run the cell. This will open a command line where you can execute any python command/expression at the moment that an Exception is thrown (or a breakpoint is triggered). For example, you can type the name of a variable to print it. Type **“q”** to quit the debugger when you are done.\n",
    "\n",
    "> `ipdb`: Ipython Debugger  \n",
    "> Besides excuting python command, `ipdb` also allows you to walk between lines of code and trace code behaviors. \n",
    "> Type **“n”** and hit Enter to run the next line of code (The → arrow shows you the current position). Use **“c”** to continue until the next breakpoint. \n",
    "\n"
   ]
  },
  {
   "cell_type": "code",
   "execution_count": null,
   "metadata": {},
   "outputs": [],
   "source": [
    "# Try running this block of code and hit an Exception\n",
    "\n",
    "output = []\n",
    "for number in range(1,10):\n",
    "    output.append(number)\n",
    "    \n",
    "if len(output) != 10:\n",
    "    raise Exception('Output does not contain numbers 1 to 10')"
   ]
  },
  {
   "cell_type": "code",
   "execution_count": null,
   "metadata": {},
   "outputs": [],
   "source": [
    "# Execute this cell, use %debug to find out what is wrong\n",
    "\n",
    "%debug"
   ]
  },
  {
   "cell_type": "markdown",
   "metadata": {},
   "source": [
    "### Use 1 or 2 sentence to explain how you identify the problem with debug. \n",
    "Edit this cell to answer:\n",
    "\n",
    "\n",
    "\n",
    "\n"
   ]
  },
  {
   "cell_type": "markdown",
   "metadata": {},
   "source": [
    "## Conclusion\n",
    "To complete this lab, you will need to \n",
    "- clone the repository for this lab to Brown JupyterHub.\n",
    "- edit this file by answering the above question.\n",
    "- use `git add`, `git commit` and then `git push` to submit your changes. \n",
    "- goto your github repo and make sure everything is submitted as desired.\n",
    "- That's it! **Welcome to DATA 1050!**"
   ]
  }
 ],
 "metadata": {
  "kernelspec": {
   "display_name": "Python 3",
   "language": "python",
   "name": "python3"
  },
  "language_info": {
   "codemirror_mode": {
    "name": "ipython",
    "version": 3
   },
   "file_extension": ".py",
   "mimetype": "text/x-python",
   "name": "python",
   "nbconvert_exporter": "python",
   "pygments_lexer": "ipython3",
   "version": "3.7.3"
  }
 },
 "nbformat": 4,
 "nbformat_minor": 2
}
