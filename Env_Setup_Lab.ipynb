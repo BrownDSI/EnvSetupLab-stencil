{
 "cells": [
  {
   "cell_type": "markdown",
   "metadata": {},
   "source": [
    "# Getting Started With DATA 1050!\n",
    "In this lab you'll set up the tools that you will need for this course on your computer so that you can work on projects and labs efficiently throughout the semester. If you run into any trouble, pleasse do not hesitate to reach out to the TAs!"
   ]
  },
  {
   "cell_type": "markdown",
   "metadata": {},
   "source": [
    "## JupyterLab & Jupyter Notebook\n",
    "\n",
    "JupyterLab is the next-generation user interface for Project Jupyter. It enables users to use tools such Jupyter Notebook, text editor, terminal all in a flexible, integrated, and extensible manner.\n",
    "\n",
    "![JupyterLab Interface](img/interface_jupyterlab.png)\n",
    "\n",
    "<br>\n",
    "\n",
    "Luckily, Brown University has developed the [Brown JupyterHub](https://docs.ccv.brown.edu/jupyterhub/) to provide an environment that is designed to run JupyterLab and Jupyter Notebook without the need to install any software or packages. JupyterHub is interacted with completely through a web browser. This service is a collaboration supported by various teams in CIS. \n",
    "\n",
    "### Before Getting Started\n",
    "\n",
    " Prior to accessing Brown’s JupyterHub, you will need the following:\n",
    "\n",
    "*  A supported web browser \\(Chrome, Firefox, Safari, Microsoft Edge\\)\n",
    "*  Be enrolled in a course at Brown that utilizes JupyterHub \\(ask your professor\\)\n",
    "*  Have read through the [Computing Policies Terms of Service Agreement](../computing-policy.md#brown-jupyterhub-terms-and-service-agreement)\n",
    "\n",
    "### Sign In\n",
    "\n",
    " Start using JupyterHub by signing in to your account for your class.\n",
    "\n",
    "1.  Go to [https://data.jupyter.brown.edu](https://data.jupyter.brown.edu) and click \"Sign in with Brown Gmail Login\"\n",
    "2.  Enter your Brown email address and password\n",
    "\n",
    "Once authenticated, you should automatically be logged in and a JupyterHub server will begin launching. A status bar will appear with detailed information regarding your server startup. Once connected, you should arrive at the JupyterHub home page as seen below. For more information about the menu buttons and their functionality, see the [Interface Overview](https://docs.ccv.brown.edu/jupyterhub/using-your-hub/interface-overview) documentation.\n",
    "\n",
    "**Note:** Once you have already started a server, future logins will automatically spawn any active notebooks automatically.\n",
    "\n"
   ]
  },
  {
   "cell_type": "markdown",
   "metadata": {},
   "source": [
    "## GitHub & GitHub Classroom\n",
    "GitHub Classroom is a way to distribute coding homework assignments though the use of Git, a powerful tool for version control and remote storage of programming projects. For your work on Brown's JupyterHub, GitHub is the recommended method for saving and storing your active projects as it is not only the industry standard, but you can take your projects with you as the foundation of your programming portfolio.\n",
    "\n",
    "### Create a GitHub Account\n",
    "In order to use GitHub Classroom, you must first create a GitHub account (if you already have an existing account, you can skip this step). To create an account, go to https://github.com/join and complete the account creation process. We recommend you use an appropriate username, as it is publicly visible.\n",
    "\n",
    "### Join GitHub Classroom\n",
    "Once you have a GitHub account, you must join your class's corresponding GitHub Classroom organization. To do this, follow the classroom invitation link provided by your instructor. This will require you to sign in to your GitHub account, and then you will automatically become linked! The invitation link for this lab is [here](https://classroom.github.com/a/ZQybMX5e).\n"
   ]
  },
  {
   "cell_type": "markdown",
   "metadata": {},
   "source": [
    "## Assignments Workflow\n",
    "\n",
    "**Prerequisites (only needs to be done once):**  \n",
    "Syncing JupyterHub and GitHub:\n",
    "1. In Brown JupyterHub, create a new **Terminal** from Launcher. \n",
    "    <!-- ![terminal](img/terminal.png) -->\n",
    "    <img src=\"img/terminal.png\" width=\"50%\" />\n",
    "2. In the terminal type the gitconfig command: `gitconfig -u your_github_username -n your_Brown_username -e your_Brown_email@brown.edu`. Your Brown username is what you use to login to Brown WiFi and other Brown websites. If you are unsure of your Brown username, go the Brown [directory](https://directory.brown.edu/), click **log in to view more information**, then search your name. After running the command, enter your GitHub password when asked.\n",
    "3. Then, you will get this message: *The authenticity of host 'github.com (192.30.253.113)' can't be established. RSA key fingerprint is (some gibberish). Are you sure you want to continue connecting (yes/no)?* **Type yes and hit Enter.**\n",
    "> **Troubleshooting**  \n",
    "> If you see a message saying \"sorry, try again\" after some progress bar, chances are you are just fine. Checkout your \n",
    "> Github keys at [https://github.com/settings/keys](https://github.com/settings/keys). \n",
    "> If there is a key named like \"jupyter-yourName-XXXX\", your key is already registered and you can proceed.\n",
    ">\n",
    "> If you have two-factor authentication enabled for your GitHub account, you may need to temporaily disable it to be able to use git config. The other option is to manually create ssh keys. If you are having trouble with this, feel free to post on Piazza or come to TA hours.\n",
    "    \n",
    "**For every assignment:**\n",
    "1. Accept GitHub assignment by clicking on the corresponding assignment link that will be provided when assignment is released.\n",
    "\n",
    "<!-- ![Accept GitHub assignment](img/accept.gif) -->\n",
    "<img src=\"img/accept.gif\" width=\"50%\" />\n",
    "<!-- ![Accepted GitHub assignment](img/accepted.png) -->\n",
    "<img src=\"img/accepted.png\" width=\"50%\">\n",
    "\n",
    "2. Now that you have created the repository for the assignment, you will need to download the assignment to JupyterHub. To do this, you will need to get the URL of the GitHub repository you just created. First click on the link following *Your assignment has been created here:*. Then click on the green `Clone or download` button. \n",
    "\n",
    "![Get repository URL](img/url.png)\n",
    "\n",
    "3. Go to a Terminal window in Brown JupyterHub's JupyterLab. If you do not already have one open, you can open one by clicking on the `Git` tab on top left then clicking `Open Terminal`\n",
    "4. Clone your assignment to the hub using the git clone command `git clone <gitURL>`. Replace `<gitURL>` with the copied URL from Step 2.\n",
    "> **Troubleshooting**  \n",
    "> If you see the error \"Load key /home/jovyan/.ssh/id_rsa: bad permissions\",\n",
    "> type `chmod 600 ~/.ssh/id_rsa` and then you should be able to use `git clone`.\n",
    "> This problem is due to the encryption key having inappropriate access permissions (controlled by Access Control List (ACL))\n",
    "> This command above fixes the problem by disallowing other users to perform reads/writes on the key. \n",
    ">\n",
    "> This key is used as a signature, which identifes you as an authorized user without the need for a password.   \n",
    "\n",
    "**Submitting your work:**\n",
    "Once you have completed your assignment and are ready to turn it in, please run the following commands in a Terminal window from the root of the assignment directory.\n",
    "\n",
    "1. `git add . ` to add your local changes to staging area.\n",
    "2. `git commit -m “(your commit message)”` to commit the local changes to local repository.\n",
    "3. `git push` to push the commited local changes to remote repository.\n",
    "\n"
   ]
  },
  {
   "cell_type": "markdown",
   "metadata": {},
   "source": [
    "## Git\n",
    "Git is one of the most commonly used systems for version control which allows us to manage changes in our code and collaborate with others. We will go more in-depth with Git in our next lab. For now, here are the essential Git commands: \n",
    "\n",
    "| Git Command | Description |                                                                                                                                                                                            \n",
    "| ----------- | ----------- |\n",
    "| `git clone URL-or-path-to-repo` | Clone a repository. This makes a new folder in your current directory containing the files in the repository that you are working with. |                                                                  \n",
    "| `git add`                     | Add the given file to the repository so that it will be tracked by git. Use this when you author a new code file and want to include it in a commit. Alternatively, include `-a` to add all files from your local repo |\n",
    "| `git commit`                            |  \tFinalize the current changes to your code as a commit to your current branch and repo on your local machine. Include `-a` to automatically add changed files that git is already tracking and `-m <message>` to include a message about the commit (otherwise you will be kicked to an editor in which to type out your message).                  |                                                                                                                                                                                                   \n",
    "| `git pull`                               |  Pull any changes that have happened on the remote server you initially cloned and bring them into your local repository. You will need to have a clean repo so you will probably want to commit first if you have changes (or stash them). <br><br> (**Note**: A `git pull` is a combination of a `git fetch` and a `git merge` which will lead to extra commits of the form `Merge branch 'master' of ....` For a cleaner history, use `git pull --rebase`)             |  \n",
    "| `git push` | Push whatever commits you have made locally to the remote repository that you cloned previously. You may need to pull first to ensure that you are in sync with the repo. |\n",
    "| `git log` | View history of commits that you have made. They will be displayed with their unique identifier (a big hex mess like 766f98f32fa...) and their commit message. |"
   ]
  },
  {
   "cell_type": "markdown",
   "metadata": {},
   "source": [
    "## Text Editor\n",
    "Throughout the course, it will also be helpful to have a dedicated place to edit your code and program. There are many free text editor available in the market; the one we recommend is Visual Studio Code (or VS Code). You can download it from [here](https://code.visualstudio.com/download)."
   ]
  },
  {
   "cell_type": "markdown",
   "metadata": {},
   "source": [
    "## Debugging\n",
    "\n",
    "### `print`\n",
    "An easy way to debug your Python program is using `print`. The Python `print` function simply displays text in the Terminal so you can see what’s going on. This is useful for seeing what the values of certain variables are or just seeing what part of your program is being executed. \n",
    "\n",
    "### `%debug` magic\n",
    "\n",
    "The easiest way to debug a Jupyter notebook is to use the `%debug` magic command. Whenever you encounter an error or exception, just open a new notebook cell, type %debug and run the cell. This will open a command line where you can execute any python command/expression at the moment that an Exception is thrown (or a breakpoint is triggered). For example, you can type the name of a variable to print it. Type **“q”** to quit the debugger when you are done.\n",
    "\n",
    "> `ipdb`: Ipython Debugger  \n",
    "> Besides excuting python command, `ipdb` also allows you to walk between lines of code and trace code behaviors. \n",
    "> Type **“n”** and hit Enter to run the next line of code (The → arrow shows you the current position). Use **“c”** to continue until the next breakpoint. \n",
    "\n"
   ]
  },
  {
   "cell_type": "code",
   "execution_count": 4,
   "metadata": {},
   "outputs": [
    {
     "ename": "Exception",
     "evalue": "Output does not contain numbers 1 to 10",
     "output_type": "error",
     "traceback": [
      "\u001b[0;31m---------------------------------------------------------------------------\u001b[0m",
      "\u001b[0;31mException\u001b[0m                                 Traceback (most recent call last)",
      "\u001b[0;32m<ipython-input-4-28e8c45d1090>\u001b[0m in \u001b[0;36m<module>\u001b[0;34m()\u001b[0m\n\u001b[1;32m      6\u001b[0m \u001b[0;34m\u001b[0m\u001b[0m\n\u001b[1;32m      7\u001b[0m \u001b[0;32mif\u001b[0m \u001b[0mlen\u001b[0m\u001b[0;34m(\u001b[0m\u001b[0moutput\u001b[0m\u001b[0;34m)\u001b[0m \u001b[0;34m!=\u001b[0m \u001b[0;36m10\u001b[0m\u001b[0;34m:\u001b[0m\u001b[0;34m\u001b[0m\u001b[0m\n\u001b[0;32m----> 8\u001b[0;31m     \u001b[0;32mraise\u001b[0m \u001b[0mException\u001b[0m\u001b[0;34m(\u001b[0m\u001b[0;34m'Output does not contain numbers 1 to 10'\u001b[0m\u001b[0;34m)\u001b[0m\u001b[0;34m\u001b[0m\u001b[0m\n\u001b[0m",
      "\u001b[0;31mException\u001b[0m: Output does not contain numbers 1 to 10"
     ]
    }
   ],
   "source": [
    "# Try running this block of code\n",
    "\n",
    "output = []\n",
    "for number in range(1,10):\n",
    "    output.append(number)\n",
    "    \n",
    "if len(output) != 10: \n",
    "    raise Exception('Output does not contain numbers 1 to 10')"
   ]
  },
  {
   "cell_type": "code",
   "execution_count": null,
   "metadata": {},
   "outputs": [
    {
     "name": "stdout",
     "output_type": "stream",
     "text": [
      "> \u001b[0;32m<ipython-input-4-28e8c45d1090>\u001b[0m(8)\u001b[0;36m<module>\u001b[0;34m()\u001b[0m\n",
      "\u001b[0;32m      4 \u001b[0;31m\u001b[0;32mfor\u001b[0m \u001b[0mnumber\u001b[0m \u001b[0;32min\u001b[0m \u001b[0mrange\u001b[0m\u001b[0;34m(\u001b[0m\u001b[0;36m1\u001b[0m\u001b[0;34m,\u001b[0m\u001b[0;36m10\u001b[0m\u001b[0;34m)\u001b[0m\u001b[0;34m:\u001b[0m\u001b[0;34m\u001b[0m\u001b[0m\n",
      "\u001b[0m\u001b[0;32m      5 \u001b[0;31m    \u001b[0moutput\u001b[0m\u001b[0;34m.\u001b[0m\u001b[0mappend\u001b[0m\u001b[0;34m(\u001b[0m\u001b[0mnumber\u001b[0m\u001b[0;34m)\u001b[0m\u001b[0;34m\u001b[0m\u001b[0m\n",
      "\u001b[0m\u001b[0;32m      6 \u001b[0;31m\u001b[0;34m\u001b[0m\u001b[0m\n",
      "\u001b[0m\u001b[0;32m      7 \u001b[0;31m\u001b[0;32mif\u001b[0m \u001b[0mlen\u001b[0m\u001b[0;34m(\u001b[0m\u001b[0moutput\u001b[0m\u001b[0;34m)\u001b[0m \u001b[0;34m!=\u001b[0m \u001b[0;36m10\u001b[0m\u001b[0;34m:\u001b[0m\u001b[0;34m\u001b[0m\u001b[0m\n",
      "\u001b[0m\u001b[0;32m----> 8 \u001b[0;31m    \u001b[0;32mraise\u001b[0m \u001b[0mException\u001b[0m\u001b[0;34m(\u001b[0m\u001b[0;34m'Output does not contain numbers 1 to 10'\u001b[0m\u001b[0;34m)\u001b[0m\u001b[0;34m\u001b[0m\u001b[0m\n",
      "\u001b[0m\n"
     ]
    }
   ],
   "source": [
    "# Use %debug to find out what is wrong\n",
    "\n",
    "%debug"
   ]
  },
  {
   "cell_type": "markdown",
   "metadata": {},
   "source": [
    "### Briefly explain how you identifed the problem using `%debug`\n",
    "Edit this cell to answer:\n",
    "\n",
    "Hint: Look at `output`\n",
    "\n",
    "\n",
    "\n",
    "\n"
   ]
  },
  {
   "cell_type": "markdown",
   "metadata": {},
   "source": [
    "## Conclusion\n",
    "In summary, to complete this lab, you will need to: \n",
    "- clone the repository for this lab to Brown JupyterHub.\n",
    "- edit this file by answering the above question.\n",
    "- use `git add`, `git commit` and then `git push` to submit your changes. \n",
    "- goto your github repo and make sure everything is submitted as desired.\n",
    "- That's it! **Welcome to DATA 1050!**"
   ]
  }
 ],
 "metadata": {
  "kernelspec": {
   "display_name": "Python 3",
   "language": "python",
   "name": "python3"
  },
  "language_info": {
   "codemirror_mode": {
    "name": "ipython",
    "version": 3
   },
   "file_extension": ".py",
   "mimetype": "text/x-python",
   "name": "python",
   "nbconvert_exporter": "python",
   "pygments_lexer": "ipython3",
   "version": "3.7.3"
  }
 },
 "nbformat": 4,
 "nbformat_minor": 2
}
